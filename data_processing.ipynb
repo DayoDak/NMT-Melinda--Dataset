{
 "cells": [
  {
   "cell_type": "code",
   "execution_count": 4,
   "id": "23c19b5a",
   "metadata": {},
   "outputs": [
    {
     "name": "stdout",
     "output_type": "stream",
     "text": [
      "'\n"
     ]
    }
   ],
   "source": [
    "\n",
    "book = []\n",
    "\n",
    "with open(\"out.txt\", \"rb\") as dataset :\n",
    "    book = dataset.readlines()\n",
    "    \n",
    "book = book.decode(\"utf-8\")\n",
    "book_1 = book[1]\n",
    "\n",
    "print(book_1)"
   ]
  },
  {
   "cell_type": "code",
   "execution_count": null,
   "id": "e1049fe5",
   "metadata": {},
   "outputs": [],
   "source": []
  }
 ],
 "metadata": {
  "kernelspec": {
   "display_name": "Python 3 (ipykernel)",
   "language": "python",
   "name": "python3"
  },
  "language_info": {
   "codemirror_mode": {
    "name": "ipython",
    "version": 3
   },
   "file_extension": ".py",
   "mimetype": "text/x-python",
   "name": "python",
   "nbconvert_exporter": "python",
   "pygments_lexer": "ipython3",
   "version": "3.10.11"
  }
 },
 "nbformat": 4,
 "nbformat_minor": 5
}
